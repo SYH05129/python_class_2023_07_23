{
 "cells": [
  {
   "cell_type": "code",
   "execution_count": 1,
   "metadata": {},
   "outputs": [
    {
     "name": "stdout",
     "output_type": "stream",
     "text": [
      "hello python\n"
     ]
    }
   ],
   "source": [
    "print(\"hello python\")"
   ]
  },
  {
   "cell_type": "code",
   "execution_count": 8,
   "metadata": {},
   "outputs": [
    {
     "name": "stdout",
     "output_type": "stream",
     "text": [
      "你的面積是21.78平方公分\n"
     ]
    }
   ],
   "source": [
    "top=eval(input(\"請輸入你的上底:\"))\n",
    "bottom=eval(input(\"請輸入你的下底:\"))\n",
    "height=eval(input(\"請輸入你的高:\"))\n",
    "area=(top+bottom)*height/2\n",
    "print(f\"你的面積是{area:.2f}平方公分\")"
   ]
  },
  {
   "cell_type": "code",
   "execution_count": 6,
   "metadata": {},
   "outputs": [
    {
     "data": {
      "text/plain": [
       "'我有5個蘋果,8個芭樂,總共有13個水果'"
      ]
     },
     "execution_count": 6,
     "metadata": {},
     "output_type": "execute_result"
    }
   ],
   "source": [
    "apple=int(input(\"你有多少個蘋果?\"))\n",
    "guava=int(input(\"你有多少個芭樂?\"))\n",
    "f\"我有{apple}個蘋果,{guava}個芭樂,總共有{apple+guava}個水果\""
   ]
  }
 ],
 "metadata": {
  "kernelspec": {
   "display_name": "Python 3",
   "language": "python",
   "name": "python3"
  },
  "language_info": {
   "codemirror_mode": {
    "name": "ipython",
    "version": 3
   },
   "file_extension": ".py",
   "mimetype": "text/x-python",
   "name": "python",
   "nbconvert_exporter": "python",
   "pygments_lexer": "ipython3",
   "version": "3.10.12"
  },
  "orig_nbformat": 4
 },
 "nbformat": 4,
 "nbformat_minor": 2
}
