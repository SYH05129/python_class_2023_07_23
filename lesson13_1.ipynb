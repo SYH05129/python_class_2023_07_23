{
 "cells": [
  {
   "cell_type": "code",
   "execution_count": 2,
   "metadata": {},
   "outputs": [],
   "source": [
    "a1=5\n",
    "n1=5.5\n",
    "c1=\"Cindy\""
   ]
  },
  {
   "cell_type": "code",
   "execution_count": 4,
   "metadata": {},
   "outputs": [
    {
     "name": "stdout",
     "output_type": "stream",
     "text": [
      "<class 'int'>\n",
      "<class 'float'>\n",
      "<class 'str'>\n"
     ]
    }
   ],
   "source": [
    "print(type(a1))\n",
    "print(type(n1))\n",
    "print(type(c1))"
   ]
  },
  {
   "cell_type": "code",
   "execution_count": 47,
   "metadata": {},
   "outputs": [
    {
     "name": "stdout",
     "output_type": "stream",
     "text": [
      "姓名:施羽馨\n",
      "數學:83\n",
      "英文:62\n",
      "自然:88\n",
      "姓名:嚴浩翔\n",
      "數學:62\n",
      "英文:58\n",
      "自然:63\n"
     ]
    }
   ],
   "source": [
    "class Student:\n",
    "    def __init__(self,name,math,English,science):\n",
    "        self.name=name\n",
    "        self.math=math\n",
    "        self.English=English\n",
    "        self.science=science\n",
    "\n",
    "    def total(self):\n",
    "        return(self.math+self.English+self.science)\n",
    "    \n",
    "    def average(self):\n",
    "        return(self.total()/3.0)\n",
    "    \n",
    "    def __repr__(self):\n",
    "        return f\"姓名:{self.name}\\n數學:{self.math}\\n英文:{self.English}\\n自然:{self.science}\"\n",
    "\n",
    "import random\n",
    "def generate_student(name):\n",
    "    stu=Student(name,0,0,0)\n",
    "    stu.math=random.randint(50,100)\n",
    "    stu.English=random.randint(50,100)\n",
    "    stu.science=random.randint(50,100)\n",
    "    return stu\n",
    "\n",
    "stu1= generate_student(\"施羽馨\")\n",
    "print(stu1)\n",
    "\n",
    "stu2= generate_student(\"嚴浩翔\")\n",
    "print(stu2)"
   ]
  },
  {
   "cell_type": "code",
   "execution_count": 42,
   "metadata": {},
   "outputs": [
    {
     "name": "stdout",
     "output_type": "stream",
     "text": [
      "施羽馨 95 85 90\n",
      "270\n",
      "90.0\n",
      "姓名:施羽馨\n",
      "數學:95\n",
      "英文:85\n",
      "自然:90\n"
     ]
    }
   ],
   "source": [
    "print(stu1.name,stu1.math,stu1.English,stu1.science)\n",
    "print(stu1.total())\n",
    "print(stu1.average())\n",
    "print(stu1.__repr__())"
   ]
  },
  {
   "cell_type": "code",
   "execution_count": 43,
   "metadata": {},
   "outputs": [
    {
     "name": "stdout",
     "output_type": "stream",
     "text": [
      "嚴浩翔 70 90 75\n",
      "235\n",
      "78.33333333333333\n",
      "姓名:嚴浩翔\n",
      "數學:70\n",
      "英文:90\n",
      "自然:75\n"
     ]
    }
   ],
   "source": [
    "print(stu2.name,stu2.math,stu2.English,stu2.science)\n",
    "print(stu2.total())\n",
    "print(stu2.average())\n",
    "print(stu2.__repr__())"
   ]
  }
 ],
 "metadata": {
  "kernelspec": {
   "display_name": "Python 3",
   "language": "python",
   "name": "python3"
  },
  "language_info": {
   "codemirror_mode": {
    "name": "ipython",
    "version": 3
   },
   "file_extension": ".py",
   "mimetype": "text/x-python",
   "name": "python",
   "nbconvert_exporter": "python",
   "pygments_lexer": "ipython3",
   "version": "3.10.12"
  },
  "orig_nbformat": 4
 },
 "nbformat": 4,
 "nbformat_minor": 2
}
