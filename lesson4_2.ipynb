{
 "cells": [
  {
   "cell_type": "code",
   "execution_count": 2,
   "metadata": {},
   "outputs": [
    {
     "data": {
      "text/plain": [
       "False"
      ]
     },
     "execution_count": 2,
     "metadata": {},
     "output_type": "execute_result"
    }
   ],
   "source": [
    "5==5"
   ]
  },
  {
   "cell_type": "code",
   "execution_count": 3,
   "metadata": {},
   "outputs": [
    {
     "data": {
      "text/plain": [
       "False"
      ]
     },
     "execution_count": 3,
     "metadata": {},
     "output_type": "execute_result"
    }
   ],
   "source": [
    "5!=5"
   ]
  },
  {
   "cell_type": "code",
   "execution_count": 14,
   "metadata": {},
   "outputs": [
    {
     "name": "stdout",
     "output_type": "stream",
     "text": [
      "輸入格式有誤\n"
     ]
    }
   ],
   "source": [
    "try:\n",
    "    score=int(input(\"請輸入學生分數(最高300分):\"))\n",
    "    if score <=300:\n",
    "        add=input(\"學生是否符合加分條件?(y,n)\")\n",
    "        if(add==\"y\"):\n",
    "            score*=1.05\n",
    "            if score>300:\n",
    "                score=300\n",
    "        print(f\"學生總分是{round(score)}\")\n",
    "    else:\n",
    "        print(\"分數超過300分,請重新執行\")\n",
    "except:\n",
    "    print(\"輸入格式有誤\")"
   ]
  },
  {
   "cell_type": "code",
   "execution_count": 23,
   "metadata": {},
   "outputs": [
    {
     "name": "stdout",
     "output_type": "stream",
     "text": [
      "輸入格式錯誤\n"
     ]
    }
   ],
   "source": [
    "try:\n",
    "    score=int(input(\"請輸入國文分數\"))\n",
    "    if score < 60:\n",
    "        print(\"不及格\")\n",
    "    else:\n",
    "        if score >=80:\n",
    "            print(\"優\")\n",
    "        else:\n",
    "            print(\"普通\")\n",
    "except:\n",
    "    print(\"輸入格式錯誤\")"
   ]
  }
 ],
 "metadata": {
  "kernelspec": {
   "display_name": "Python 3",
   "language": "python",
   "name": "python3"
  },
  "language_info": {
   "codemirror_mode": {
    "name": "ipython",
    "version": 3
   },
   "file_extension": ".py",
   "mimetype": "text/x-python",
   "name": "python",
   "nbconvert_exporter": "python",
   "pygments_lexer": "ipython3",
   "version": "3.10.12"
  },
  "orig_nbformat": 4
 },
 "nbformat": 4,
 "nbformat_minor": 2
}
