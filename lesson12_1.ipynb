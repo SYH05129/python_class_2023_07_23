{
 "cells": [
  {
   "cell_type": "code",
   "execution_count": 6,
   "metadata": {},
   "outputs": [
    {
     "name": "stdout",
     "output_type": "stream",
     "text": [
      "a1.csv存檔完成\n"
     ]
    }
   ],
   "source": [
    "import os\n",
    "import student\n",
    "file_name=input(\"請輸入要存檔的檔案名稱:\")\n",
    "root=os.path.abspath(path=\"./\")\n",
    "filepath=os.path.join(root,\"csv_data\",f\"{file_name}.csv\")\n",
    "students=student.get_students(student_num=30)\n",
    "students\n",
    "import csv\n",
    "with open(filepath,mode=\"w\",encoding=\"utf-8\",newline=\"\") as file:\n",
    "    csv_writer=csv.writer(file)\n",
    "    csv_writer.writerow([\"姓名\",\"國文\",\"英文\",\"數學\",\"社會\",\"自然\"])\n",
    "    csv_writer.writerows(students)\n",
    "print(f\"{file_name}.csv存檔完成\")"
   ]
  },
  {
   "cell_type": "code",
   "execution_count": 5,
   "metadata": {},
   "outputs": [
    {
     "name": "stdout",
     "output_type": "stream",
     "text": [
      "123.csv存檔完成\n"
     ]
    }
   ],
   "source": [
    "import csv\n",
    "with open(filepath,mode=\"w\",encoding=\"utf-8\",newline=\"\") as file:\n",
    "    csv_writer=csv.writer(file)\n",
    "    csv_writer.writerow([\"姓名\",\"國文\",\"英文\",\"數學\",\"社會\",\"自然\"])\n",
    "    csv_writer.writerows(students)\n",
    "print(f\"{file_name}.csv存檔完成\")"
   ]
  },
  {
   "cell_type": "code",
   "execution_count": 9,
   "metadata": {},
   "outputs": [
    {
     "data": {
      "text/plain": [
       "[['葉祖雄', 58, 96, 87, 81, 85],\n",
       " ['鄭佳玲', 62, 78, 62, 59, 84],\n",
       " ['吳俐芷', 67, 73, 95, 56, 69],\n",
       " ['王人仰', 99, 79, 58, 100, 95],\n",
       " ['程玫靖', 63, 93, 88, 77, 68],\n",
       " ['陳倩妮', 72, 59, 66, 73, 54],\n",
       " ['林佳慧', 77, 96, 50, 88, 81],\n",
       " ['洪阿惠', 53, 53, 66, 83, 51],\n",
       " ['吳振瑋', 100, 100, 94, 84, 75],\n",
       " ['高信宏', 63, 72, 85, 61, 96]]"
      ]
     },
     "metadata": {},
     "output_type": "display_data"
    },
    {
     "name": "stdout",
     "output_type": "stream",
     "text": [
      "a2.csv存檔完成\n"
     ]
    }
   ],
   "source": [
    "import csv\n",
    "nums=int(input(\"請輸入學生數:\"))\n",
    "students=student.get_students(student_num=nums)\n",
    "display(students)\n",
    "fileName=input(\"請問存檔名稱:(名稱 or n)\")\n",
    "if fileName != \"n\" :\n",
    "    root=os.path.abspath(path=\"./\")\n",
    "    filepath=os.path.join(root,\"csv_data\",f\"{fileName}.csv\")\n",
    "    with open(filepath,mode=\"w\",encoding=\"utf-8\",newline=\"\") as file:\n",
    "        csv_writer=csv.writer(file)\n",
    "        csv_writer.writerow([\"姓名\",\"國文\",\"英文\",\"數學\",\"社會\",\"自然\"])\n",
    "        csv_writer.writerows(students)\n",
    "    print(f\"{fileName}.csv存檔完成\")\n",
    "else:\n",
    "    print(\"應用程式結束\")"
   ]
  }
 ],
 "metadata": {
  "kernelspec": {
   "display_name": "Python 3",
   "language": "python",
   "name": "python3"
  },
  "language_info": {
   "codemirror_mode": {
    "name": "ipython",
    "version": 3
   },
   "file_extension": ".py",
   "mimetype": "text/x-python",
   "name": "python",
   "nbconvert_exporter": "python",
   "pygments_lexer": "ipython3",
   "version": "3.10.12"
  },
  "orig_nbformat": 4
 },
 "nbformat": 4,
 "nbformat_minor": 2
}
