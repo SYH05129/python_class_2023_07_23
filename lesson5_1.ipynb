{
 "cells": [
  {
   "cell_type": "code",
   "execution_count": 2,
   "metadata": {},
   "outputs": [
    {
     "name": "stdout",
     "output_type": "stream",
     "text": [
      "分數是301\n"
     ]
    }
   ],
   "source": [
    "try:\n",
    "    score=int(input(\"請輸入學生分數(最高300分):\"))\n",
    "    print(f\"分數是{score}\")\n",
    "except:\n",
    "    print(\"輸入格式錯誤\")"
   ]
  },
  {
   "cell_type": "code",
   "execution_count": 9,
   "metadata": {},
   "outputs": [
    {
     "name": "stdout",
     "output_type": "stream",
     "text": [
      "第四層\n",
      "第三層\n",
      "第二層\n",
      "第一層\n",
      "學生等級是:丁\n"
     ]
    }
   ],
   "source": [
    "try:\n",
    "    score=int(input(\"請輸入學生分數0~100:\"))\n",
    "    if score>=90:\n",
    "        grade=\"優\"\n",
    "    else:\n",
    "        if score>=80:\n",
    "            grade=\"甲\"\n",
    "        else:\n",
    "            if score>=70:\n",
    "                grade='乙'\n",
    "            else:\n",
    "                if score>=60:\n",
    "                    grade=\"丙\"\n",
    "                else:\n",
    "                    grade=\"丁\"\n",
    "                    print(\"第四層\")\n",
    "                print(\"第三層\")\n",
    "            print(\"第二層\")\n",
    "        print(\"第一層\")\n",
    "    print(f\"學生等級是:{grade}\")\n",
    "except:\n",
    "    print(\"輸入格式錯誤\")"
   ]
  },
  {
   "cell_type": "code",
   "execution_count": 14,
   "metadata": {},
   "outputs": [
    {
     "name": "stdout",
     "output_type": "stream",
     "text": [
      "學生等級是:優\n"
     ]
    }
   ],
   "source": [
    "score=int(input(\"請輸入學生分數0~100:\"))\n",
    "if score>=90:\n",
    "        grade=\"優\"\n",
    "elif score>=80:\n",
    "        grade=\"甲\"\n",
    "        print(\"第一層\")\n",
    "elif score>=70:\n",
    "        grade=\"乙\"\n",
    "        print(\"第二層\")\n",
    "elif score>=60:\n",
    "         grade=\"丙\"\n",
    "         print(\"第三層\")\n",
    "else:\n",
    "        grade=\"丁\"\n",
    "        print(\"第四層\")\n",
    "print(f\"學生等級是:{grade}\")"
   ]
  },
  {
   "cell_type": "code",
   "execution_count": null,
   "metadata": {},
   "outputs": [],
   "source": [
    "x = int(input(\"請輸入x的整數:\"))\n",
    "y = int(input(\"請輸入y的整數(y不可以是0):\"))\n",
    "root = 0\n",
    "if x >= 0:\n",
    "    root = x ** (1/y)\n",
    "elif x % 2 == 0:    \n",
    "    root = 0\n",
    "else:\n",
    "    root = -(-x) ** (1 / y) \n",
    "\n",
    "print(f\"root={root}\")"
   ]
  },
  {
   "cell_type": "code",
   "execution_count": 20,
   "metadata": {},
   "outputs": [
    {
     "name": "stdout",
     "output_type": "stream",
     "text": [
      "y格式錯誤\n"
     ]
    }
   ],
   "source": [
    "try:\n",
    "    x = int(input(\"請輸入x的整數:\"))\n",
    "except:\n",
    "    print(\"x格式錯誤\")\n",
    "else:\n",
    "    try:\n",
    "        y = int(input(\"請輸入y的整數(y不可以是0):\"))\n",
    "        root = 0\n",
    "        if x >= 0:\n",
    "            root = x ** (1/y)\n",
    "        elif x % 2 == 0:    \n",
    "            root = 0\n",
    "        else:\n",
    "            root = -(-x) ** (1 / y) \n",
    "\n",
    "        print(f\"root={root}\")\n",
    "    except:\n",
    "        print(\"y格式錯誤\")\n"
   ]
  },
  {
   "cell_type": "code",
   "execution_count": 29,
   "metadata": {},
   "outputs": [
    {
     "name": "stdout",
     "output_type": "stream",
     "text": [
      "實付金額是98765.0元\n"
     ]
    }
   ],
   "source": [
    "import math\n",
    "money=int(input(\"請輸入購買金額:\"))\n",
    "pay=0\n",
    "if money<10000:\n",
    "    pay=money\n",
    "elif money<30000:\n",
    "    pay=money * 0.95\n",
    "elif money<50000:\n",
    "    pay=money * 0.9\n",
    "elif money<100000:\n",
    "    pay=money * 0.85\n",
    "else:\n",
    "    pay=money * 0.8\n",
    "\n",
    "print(f\"實付金額是{math.ceil(pay):.1f}元\") #無條件進位"
   ]
  },
  {
   "cell_type": "code",
   "execution_count": 33,
   "metadata": {},
   "outputs": [
    {
     "name": "stdout",
     "output_type": "stream",
     "text": [
      "學生獎學金是0元\n"
     ]
    }
   ],
   "source": [
    "Chinese=int(input(\"請輸入國文分數\"))\n",
    "math=int(input(\"請輸入數學分數\"))\n",
    "bonus=0\n",
    "\n",
    "if Chinese==100:\n",
    "    if math==100:\n",
    "        bonus=1000\n",
    "    else:\n",
    "        bonus=500\n",
    "else:\n",
    "    if math==100:\n",
    "        bonus=500\n",
    "print(f\"學生獎學金是{bonus}元\")"
   ]
  }
 ],
 "metadata": {
  "kernelspec": {
   "display_name": "Python 3",
   "language": "python",
   "name": "python3"
  },
  "language_info": {
   "codemirror_mode": {
    "name": "ipython",
    "version": 3
   },
   "file_extension": ".py",
   "mimetype": "text/x-python",
   "name": "python",
   "nbconvert_exporter": "python",
   "pygments_lexer": "ipython3",
   "version": "3.10.12"
  },
  "orig_nbformat": 4
 },
 "nbformat": 4,
 "nbformat_minor": 2
}
