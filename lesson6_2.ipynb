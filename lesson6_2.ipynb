{
 "cells": [
  {
   "cell_type": "code",
   "execution_count": 3,
   "metadata": {},
   "outputs": [
    {
     "name": "stdout",
     "output_type": "stream",
     "text": [
      "1\n",
      "4\n",
      "7\n",
      "10\n",
      "13\n"
     ]
    }
   ],
   "source": [
    "for x in range(1,15,3):\n",
    "    print(x)"
   ]
  },
  {
   "cell_type": "code",
   "execution_count": 5,
   "metadata": {},
   "outputs": [
    {
     "name": "stdout",
     "output_type": "stream",
     "text": [
      "1加到100總和是500500\n"
     ]
    }
   ],
   "source": [
    "total=0\n",
    "for x in range(1,1001):\n",
    "    total+=x\n",
    "print(f\"1加到100總和是{total}\")"
   ]
  },
  {
   "cell_type": "code",
   "execution_count": 7,
   "metadata": {},
   "outputs": [
    {
     "name": "stdout",
     "output_type": "stream",
     "text": [
      "1~100奇數總和是2500\n"
     ]
    }
   ],
   "source": [
    "total=0\n",
    "for x in range(1,101,2):\n",
    "    total+=x\n",
    "print(f\"1~100奇數總和是{total}\")"
   ]
  },
  {
   "cell_type": "code",
   "execution_count": 8,
   "metadata": {},
   "outputs": [
    {
     "name": "stdout",
     "output_type": "stream",
     "text": [
      "1~100偶數總和是2550\n"
     ]
    }
   ],
   "source": [
    "total=0\n",
    "for x in range(2,102,2):\n",
    "    total+=x\n",
    "print(f\"1~100偶數總和是{total}\")"
   ]
  },
  {
   "cell_type": "code",
   "execution_count": 9,
   "metadata": {},
   "outputs": [
    {
     "name": "stdout",
     "output_type": "stream",
     "text": [
      "偶數總和是2550\n",
      "奇數總和是2500\n"
     ]
    }
   ],
   "source": [
    "oddtotal=0\n",
    "eventotal=0\n",
    "for x in range(1,101):\n",
    "    if x %2==0:\n",
    "        oddtotal+=x\n",
    "    else:\n",
    "        eventotal+=x\n",
    "print(f\"偶數總和是{oddtotal}\")\n",
    "print(f\"奇數總和是{eventotal}\")"
   ]
  },
  {
   "cell_type": "code",
   "execution_count": 12,
   "metadata": {},
   "outputs": [
    {
     "name": "stdout",
     "output_type": "stream",
     "text": [
      "54~2345偶數總和是1,374,054\n",
      "54~2345奇數總和是1,375,200\n"
     ]
    }
   ],
   "source": [
    "start=int(input(\"請輸入起始值\"))\n",
    "end=int(input(\"請輸入最終值\"))\n",
    "oddtotal=0\n",
    "eventotal=0\n",
    "for x in range(start,end+1):\n",
    "    if x %2==0:\n",
    "        oddtotal+=x\n",
    "    else:\n",
    "        eventotal+=x\n",
    "print(f\"{start}~{end}偶數總和是{oddtotal:,}\")\n",
    "print(f\"{start}~{end}奇數總和是{eventotal:,}\")"
   ]
  },
  {
   "cell_type": "code",
   "execution_count": 16,
   "metadata": {},
   "outputs": [
    {
     "name": "stdout",
     "output_type": "stream",
     "text": [
      "1-2-3-4-5-6.\n"
     ]
    }
   ],
   "source": [
    "print(1,2,3,4,5,6,sep=\"-\",end=\".\\n\")"
   ]
  },
  {
   "cell_type": "code",
   "execution_count": 26,
   "metadata": {},
   "outputs": [
    {
     "name": "stdout",
     "output_type": "stream",
     "text": [
      "1 * 1= 1  1 * 2= 2  1 * 3= 3  1 * 4= 4  1 * 5= 5  1 * 6= 6  1 * 7= 7  1 * 8= 8  1 * 9= 9  \n",
      "2 * 1= 2  2 * 2= 4  2 * 3= 6  2 * 4= 8  2 * 5=10  2 * 6=12  2 * 7=14  2 * 8=16  2 * 9=18  \n",
      "3 * 1= 3  3 * 2= 6  3 * 3= 9  3 * 4=12  3 * 5=15  3 * 6=18  3 * 7=21  3 * 8=24  3 * 9=27  \n",
      "4 * 1= 4  4 * 2= 8  4 * 3=12  4 * 4=16  4 * 5=20  4 * 6=24  4 * 7=28  4 * 8=32  4 * 9=36  \n",
      "5 * 1= 5  5 * 2=10  5 * 3=15  5 * 4=20  5 * 5=25  5 * 6=30  5 * 7=35  5 * 8=40  5 * 9=45  \n",
      "6 * 1= 6  6 * 2=12  6 * 3=18  6 * 4=24  6 * 5=30  6 * 6=36  6 * 7=42  6 * 8=48  6 * 9=54  \n",
      "7 * 1= 7  7 * 2=14  7 * 3=21  7 * 4=28  7 * 5=35  7 * 6=42  7 * 7=49  7 * 8=56  7 * 9=63  \n",
      "8 * 1= 8  8 * 2=16  8 * 3=24  8 * 4=32  8 * 5=40  8 * 6=48  8 * 7=56  8 * 8=64  8 * 9=72  \n",
      "9 * 1= 9  9 * 2=18  9 * 3=27  9 * 4=36  9 * 5=45  9 * 6=54  9 * 7=63  9 * 8=72  9 * 9=81  \n"
     ]
    }
   ],
   "source": [
    "for i in range(1,10):\n",
    "    for j in range(1,10):\n",
    "        print(f\"{i:<2d}*{j:>2d}={i*j:2d}\",end=\"  \")\n",
    "    print()"
   ]
  },
  {
   "cell_type": "code",
   "execution_count": 28,
   "metadata": {},
   "outputs": [
    {
     "name": "stdout",
     "output_type": "stream",
     "text": [
      "0\n",
      "1\n",
      "2\n",
      "3\n",
      "4\n"
     ]
    }
   ],
   "source": [
    "for i in range(10):\n",
    "    if i==5:\n",
    "        break\n",
    "    print(i)"
   ]
  },
  {
   "cell_type": "code",
   "execution_count": 30,
   "metadata": {},
   "outputs": [
    {
     "name": "stdout",
     "output_type": "stream",
     "text": [
      "1 2 3 4 5 6 7 8 9 10 11 12 13 14 16 17 18 19 20 21 22 23 24 25 26 27 28 29 30 31 32 33 34 35 36 37 38 39 40 41 42 43 44 45 46 47 48 49 50 51 52 53 54 55 56 57 58 59 60 61 62 63 64 65 66 67 68 69 70 71 72 73 74 75 76 77 78 79 80 81 82 83 84 85 86 87 88 89 90 91 92 93 94 95 96 97 98 99 100 "
     ]
    }
   ],
   "source": [
    "for i in range(1,101):\n",
    "    if i ==15:\n",
    "        continue\n",
    "    print(i,end=\" \")\n",
    "print()"
   ]
  },
  {
   "cell_type": "code",
   "execution_count": 34,
   "metadata": {},
   "outputs": [
    {
     "name": "stdout",
     "output_type": "stream",
     "text": [
      "2 3 5 7 11 13 17 19 23 29 31 37 41 43 47 53 59 61 67 71 73 79 83 89 97 \n"
     ]
    }
   ],
   "source": [
    "for i in range(1,101):\n",
    "    is_prime=True\n",
    "    if i ==1:\n",
    "        continue\n",
    "    for j in range(2,i):\n",
    "        if i%j==0:\n",
    "            is_prime=False\n",
    "            break\n",
    "    if is_prime:\n",
    "        print(i,end=\" \")\n",
    "print()"
   ]
  }
 ],
 "metadata": {
  "kernelspec": {
   "display_name": "Python 3",
   "language": "python",
   "name": "python3"
  },
  "language_info": {
   "codemirror_mode": {
    "name": "ipython",
    "version": 3
   },
   "file_extension": ".py",
   "mimetype": "text/x-python",
   "name": "python",
   "nbconvert_exporter": "python",
   "pygments_lexer": "ipython3",
   "version": "3.10.12"
  },
  "orig_nbformat": 4
 },
 "nbformat": 4,
 "nbformat_minor": 2
}
