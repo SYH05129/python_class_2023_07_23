{
 "cells": [
  {
   "cell_type": "code",
   "execution_count": 3,
   "metadata": {},
   "outputs": [
    {
     "name": "stdout",
     "output_type": "stream",
     "text": [
      "1\n",
      "4\n",
      "7\n",
      "10\n",
      "13\n"
     ]
    }
   ],
   "source": [
    "for x in range(1,15,3):\n",
    "    print(x)"
   ]
  },
  {
   "cell_type": "code",
   "execution_count": 5,
   "metadata": {},
   "outputs": [
    {
     "name": "stdout",
     "output_type": "stream",
     "text": [
      "1加到100總和是500500\n"
     ]
    }
   ],
   "source": [
    "total=0\n",
    "for x in range(1,1001):\n",
    "    total+=x\n",
    "print(f\"1加到100總和是{total}\")"
   ]
  },
  {
   "cell_type": "code",
   "execution_count": 7,
   "metadata": {},
   "outputs": [
    {
     "name": "stdout",
     "output_type": "stream",
     "text": [
      "1~100奇數總和是2500\n"
     ]
    }
   ],
   "source": [
    "total=0\n",
    "for x in range(1,101,2):\n",
    "    total+=x\n",
    "print(f\"1~100奇數總和是{total}\")"
   ]
  },
  {
   "cell_type": "code",
   "execution_count": 8,
   "metadata": {},
   "outputs": [
    {
     "name": "stdout",
     "output_type": "stream",
     "text": [
      "1~100偶數總和是2550\n"
     ]
    }
   ],
   "source": [
    "total=0\n",
    "for x in range(2,102,2):\n",
    "    total+=x\n",
    "print(f\"1~100偶數總和是{total}\")"
   ]
  },
  {
   "cell_type": "code",
   "execution_count": 9,
   "metadata": {},
   "outputs": [
    {
     "name": "stdout",
     "output_type": "stream",
     "text": [
      "偶數總和是2550\n",
      "奇數總和是2500\n"
     ]
    }
   ],
   "source": [
    "oddtotal=0\n",
    "eventotal=0\n",
    "for x in range(1,101):\n",
    "    if x %2==0:\n",
    "        oddtotal+=x\n",
    "    else:\n",
    "        eventotal+=x\n",
    "print(f\"偶數總和是{oddtotal}\")\n",
    "print(f\"奇數總和是{eventotal}\")"
   ]
  },
  {
   "cell_type": "code",
   "execution_count": 12,
   "metadata": {},
   "outputs": [
    {
     "name": "stdout",
     "output_type": "stream",
     "text": [
      "54~2345偶數總和是1,374,054\n",
      "54~2345奇數總和是1,375,200\n"
     ]
    }
   ],
   "source": [
    "start=int(input(\"請輸入起始值\"))\n",
    "end=int(input(\"請輸入最終值\"))\n",
    "oddtotal=0\n",
    "eventotal=0\n",
    "for x in range(start,end+1):\n",
    "    if x %2==0:\n",
    "        oddtotal+=x\n",
    "    else:\n",
    "        eventotal+=x\n",
    "print(f\"{start}~{end}偶數總和是{oddtotal:,}\")\n",
    "print(f\"{start}~{end}奇數總和是{eventotal:,}\")"
   ]
  },
  {
   "cell_type": "code",
   "execution_count": 16,
   "metadata": {},
   "outputs": [
    {
     "name": "stdout",
     "output_type": "stream",
     "text": [
      "1-2-3-4-5-6.\n"
     ]
    }
   ],
   "source": [
    "print(1,2,3,4,5,6,sep=\"-\",end=\".\\n\")"
   ]
  }
 ],
 "metadata": {
  "kernelspec": {
   "display_name": "Python 3",
   "language": "python",
   "name": "python3"
  },
  "language_info": {
   "codemirror_mode": {
    "name": "ipython",
    "version": 3
   },
   "file_extension": ".py",
   "mimetype": "text/x-python",
   "name": "python",
   "nbconvert_exporter": "python",
   "pygments_lexer": "ipython3",
   "version": "3.10.12"
  },
  "orig_nbformat": 4
 },
 "nbformat": 4,
 "nbformat_minor": 2
}
