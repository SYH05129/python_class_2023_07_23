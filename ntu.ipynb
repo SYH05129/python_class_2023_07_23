{
 "cells": [
  {
   "cell_type": "code",
   "execution_count": 1,
   "metadata": {},
   "outputs": [
    {
     "ename": "NameError",
     "evalue": "name 'input_00200' is not defined",
     "output_type": "error",
     "traceback": [
      "\u001b[0;31m---------------------------------------------------------------------------\u001b[0m",
      "\u001b[0;31mNameError\u001b[0m                                 Traceback (most recent call last)",
      "\u001b[1;32m/workspaces/python_class_2023_07_23/ntu.ipynb 儲存格 2\u001b[0m line \u001b[0;36m1\n\u001b[0;32m----> <a href='vscode-notebook-cell://codespaces%2Bsyh05129-special-engine-g4qxgj677rgv3ppwx/workspaces/python_class_2023_07_23/ntu.ipynb#W4sdnNjb2RlLXJlbW90ZQ%3D%3D?line=0'>1</a>\u001b[0m filename\u001b[39m=\u001b[39m\u001b[39mstr\u001b[39m(input_00200\u001b[39m.\u001b[39mcsv)\n\u001b[1;32m      <a href='vscode-notebook-cell://codespaces%2Bsyh05129-special-engine-g4qxgj677rgv3ppwx/workspaces/python_class_2023_07_23/ntu.ipynb#W4sdnNjb2RlLXJlbW90ZQ%3D%3D?line=1'>2</a>\u001b[0m number\u001b[39m=\u001b[39mfilename[\u001b[39m-\u001b[39m\u001b[39m5\u001b[39m:\u001b[39m-\u001b[39m\u001b[39m7\u001b[39m]\n\u001b[1;32m      <a href='vscode-notebook-cell://codespaces%2Bsyh05129-special-engine-g4qxgj677rgv3ppwx/workspaces/python_class_2023_07_23/ntu.ipynb#W4sdnNjb2RlLXJlbW90ZQ%3D%3D?line=2'>3</a>\u001b[0m number\n",
      "\u001b[0;31mNameError\u001b[0m: name 'input_00200' is not defined"
     ]
    }
   ],
   "source": [
    "filename=str(input_00200.csv)\n",
    "number=filename[-5:-7]\n",
    "number\n"
   ]
  }
 ],
 "metadata": {
  "kernelspec": {
   "display_name": "Python 3",
   "language": "python",
   "name": "python3"
  },
  "language_info": {
   "codemirror_mode": {
    "name": "ipython",
    "version": 3
   },
   "file_extension": ".py",
   "mimetype": "text/x-python",
   "name": "python",
   "nbconvert_exporter": "python",
   "pygments_lexer": "ipython3",
   "version": "3.10.12"
  },
  "orig_nbformat": 4
 },
 "nbformat": 4,
 "nbformat_minor": 2
}
