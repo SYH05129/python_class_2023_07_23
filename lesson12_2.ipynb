{
 "cells": [
  {
   "cell_type": "code",
   "execution_count": 6,
   "metadata": {},
   "outputs": [
    {
     "name": "stdout",
     "output_type": "stream",
     "text": [
      "目前存檔的檔案\n",
      "['a1.csv', 'a2.csv']\n",
      "[['葉祖雄', '58', '96', '87', '81', '85'], ['鄭佳玲', '62', '78', '62', '59', '84'], ['吳俐芷', '67', '73', '95', '56', '69'], ['王人仰', '99', '79', '58', '100', '95'], ['程玫靖', '63', '93', '88', '77', '68'], ['陳倩妮', '72', '59', '66', '73', '54'], ['林佳慧', '77', '96', '50', '88', '81'], ['洪阿惠', '53', '53', '66', '83', '51'], ['吳振瑋', '100', '100', '94', '84', '75'], ['高信宏', '63', '72', '85', '61', '96']]\n"
     ]
    }
   ],
   "source": [
    "import os\n",
    "import csv\n",
    "root=os.path.abspath(\"./\")\n",
    "direction=os.path.join(root,\"csv_data\")\n",
    "print(\"目前存檔的檔案\")\n",
    "print(os.listdir(direction))\n",
    "\n",
    "fileName=input(\"你要載入的檔案是:\")\n",
    "filePath=os.path.join(root,\"csv_data\",fileName)\n",
    "with open(filePath,encoding='utf-8',newline='') as file:\n",
    "    csv_reader = csv.reader(file)\n",
    "    next(csv_reader)\n",
    "    students = list(csv_reader)\n",
    "print(students)"
   ]
  }
 ],
 "metadata": {
  "kernelspec": {
   "display_name": "Python 3",
   "language": "python",
   "name": "python3"
  },
  "language_info": {
   "codemirror_mode": {
    "name": "ipython",
    "version": 3
   },
   "file_extension": ".py",
   "mimetype": "text/x-python",
   "name": "python",
   "nbconvert_exporter": "python",
   "pygments_lexer": "ipython3",
   "version": "3.10.12"
  },
  "orig_nbformat": 4
 },
 "nbformat": 4,
 "nbformat_minor": 2
}
