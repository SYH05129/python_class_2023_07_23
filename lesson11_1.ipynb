{
 "cells": [
  {
   "cell_type": "code",
   "execution_count": 1,
   "metadata": {},
   "outputs": [
    {
     "name": "stdout",
     "output_type": "stream",
     "text": [
      "[89, 79, 68, 92, 58]\n",
      "[98, 67, 75, 83, 71]\n",
      "[78, 97, 84, 73, 92]\n"
     ]
    }
   ],
   "source": [
    "score1=[89,79,68,92,58]\n",
    "score2=[98,67,75,83,71]\n",
    "score3=[78,97,84,73,92]\n",
    "students=[score1,score2,score3]\n",
    "for student in students:\n",
    "    print(student)"
   ]
  },
  {
   "cell_type": "code",
   "execution_count": 3,
   "metadata": {},
   "outputs": [
    {
     "name": "stdout",
     "output_type": "stream",
     "text": [
      "[52, 91, 74, 72, 70]\n"
     ]
    }
   ],
   "source": [
    "import random\n",
    "score=[]\n",
    "for i in range(5):\n",
    "    score.append((random.randint(50,100)))\n",
    "print(score)"
   ]
  },
  {
   "cell_type": "code",
   "execution_count": 6,
   "metadata": {},
   "outputs": [
    {
     "name": "stdout",
     "output_type": "stream",
     "text": [
      "[98, 52, 79, 53, 82]\n"
     ]
    }
   ],
   "source": [
    "import random\n",
    "score=[]\n",
    "score=[random.randint(50,100)for _ in range(5)]\n",
    "print(score)"
   ]
  },
  {
   "cell_type": "code",
   "execution_count": 11,
   "metadata": {},
   "outputs": [
    {
     "data": {
      "text/plain": [
       "[[54, 83, 61, 82, 74],\n",
       " [83, 66, 95, 85, 66],\n",
       " [62, 58, 62, 98, 68],\n",
       " [81, 96, 89, 66, 97],\n",
       " [64, 84, 67, 62, 77],\n",
       " [65, 81, 83, 99, 92],\n",
       " [94, 58, 84, 65, 73],\n",
       " [65, 88, 59, 82, 90],\n",
       " [62, 80, 69, 63, 79],\n",
       " [86, 51, 88, 54, 82],\n",
       " [98, 51, 50, 57, 71],\n",
       " [65, 96, 64, 84, 57],\n",
       " [77, 50, 78, 52, 58],\n",
       " [95, 56, 69, 55, 84],\n",
       " [81, 95, 56, 82, 70],\n",
       " [56, 67, 78, 58, 78],\n",
       " [97, 97, 98, 54, 61],\n",
       " [75, 94, 63, 69, 93],\n",
       " [52, 97, 54, 50, 94],\n",
       " [69, 53, 98, 86, 95],\n",
       " [59, 56, 89, 80, 51],\n",
       " [74, 54, 84, 73, 94],\n",
       " [52, 66, 63, 92, 84],\n",
       " [85, 73, 62, 88, 55],\n",
       " [94, 94, 73, 51, 61],\n",
       " [71, 93, 86, 89, 73],\n",
       " [61, 90, 82, 75, 81],\n",
       " [66, 75, 69, 56, 59],\n",
       " [81, 81, 84, 60, 76],\n",
       " [69, 70, 55, 94, 76],\n",
       " [98, 88, 59, 58, 82],\n",
       " [70, 62, 56, 75, 86],\n",
       " [65, 59, 77, 98, 72],\n",
       " [89, 96, 59, 90, 87],\n",
       " [100, 57, 84, 64, 86],\n",
       " [93, 52, 64, 88, 58],\n",
       " [79, 91, 67, 99, 86],\n",
       " [68, 97, 74, 95, 90],\n",
       " [86, 78, 94, 87, 54],\n",
       " [92, 85, 63, 59, 61],\n",
       " [64, 57, 79, 82, 50],\n",
       " [66, 77, 73, 50, 93],\n",
       " [67, 97, 81, 59, 69],\n",
       " [65, 70, 66, 59, 64],\n",
       " [60, 92, 86, 53, 74],\n",
       " [83, 73, 72, 68, 68],\n",
       " [67, 54, 76, 91, 90],\n",
       " [61, 69, 53, 73, 58],\n",
       " [90, 94, 97, 77, 66],\n",
       " [58, 68, 79, 74, 83]]"
      ]
     },
     "execution_count": 11,
     "metadata": {},
     "output_type": "execute_result"
    }
   ],
   "source": [
    "import random\n",
    "student_num=50\n",
    "students:list[list]=[]\n",
    "for _ in range(student_num):\n",
    "    one_student=[random.randint(50,100)for _ in range(5)]\n",
    "    students.append(one_student)\n",
    "students"
   ]
  }
 ],
 "metadata": {
  "kernelspec": {
   "display_name": "Python 3",
   "language": "python",
   "name": "python3"
  },
  "language_info": {
   "codemirror_mode": {
    "name": "ipython",
    "version": 3
   },
   "file_extension": ".py",
   "mimetype": "text/x-python",
   "name": "python",
   "nbconvert_exporter": "python",
   "pygments_lexer": "ipython3",
   "version": "3.10.12"
  },
  "orig_nbformat": 4
 },
 "nbformat": 4,
 "nbformat_minor": 2
}
