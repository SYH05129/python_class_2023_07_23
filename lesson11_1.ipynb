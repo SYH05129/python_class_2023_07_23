{
 "cells": [
  {
   "cell_type": "code",
   "execution_count": 1,
   "metadata": {},
   "outputs": [
    {
     "name": "stdout",
     "output_type": "stream",
     "text": [
      "[89, 79, 68, 92, 58]\n",
      "[98, 67, 75, 83, 71]\n",
      "[78, 97, 84, 73, 92]\n"
     ]
    }
   ],
   "source": [
    "score1=[89,79,68,92,58]\n",
    "score2=[98,67,75,83,71]\n",
    "score3=[78,97,84,73,92]\n",
    "students=[score1,score2,score3]\n",
    "for student in students:\n",
    "    print(student)"
   ]
  },
  {
   "cell_type": "code",
   "execution_count": 3,
   "metadata": {},
   "outputs": [
    {
     "name": "stdout",
     "output_type": "stream",
     "text": [
      "[52, 91, 74, 72, 70]\n"
     ]
    }
   ],
   "source": [
    "import random\n",
    "score=[]\n",
    "for i in range(5):\n",
    "    score.append((random.randint(50,100)))\n",
    "print(score)"
   ]
  },
  {
   "cell_type": "code",
   "execution_count": 6,
   "metadata": {},
   "outputs": [
    {
     "name": "stdout",
     "output_type": "stream",
     "text": [
      "[98, 52, 79, 53, 82]\n"
     ]
    }
   ],
   "source": [
    "import random\n",
    "score=[]\n",
    "score=[random.randint(50,100)for _ in range(5)]\n",
    "print(score)"
   ]
  },
  {
   "cell_type": "code",
   "execution_count": 3,
   "metadata": {},
   "outputs": [
    {
     "name": "stdout",
     "output_type": "stream",
     "text": [
      "['吳明妮', '蔡欣汝', '張軒宸', '林建宏', '李政白', '魏秋萍', '李慶亮', '李慈啟', '劉雯芬', '孫宜珊']\n"
     ]
    }
   ],
   "source": [
    "import random\n",
    "def get_all_names() -> list[str]:\n",
    "    with open('names.txt',mode='r',encoding='utf-8') as file:\n",
    "        names:list[str] = []\n",
    "        for line in file:\n",
    "            line = line.rstrip('\\n')\n",
    "            names.append(line)\n",
    "        return names\n",
    "def get_random_names(nums):\n",
    "    names=get_all_names()\n",
    "    random_list=random.choices(names,k=nums)\n",
    "    return random_list\n",
    "names=get_random_names(nums=10)\n",
    "print(names)"
   ]
  },
  {
   "cell_type": "code",
   "execution_count": 5,
   "metadata": {},
   "outputs": [
    {
     "data": {
      "text/plain": [
       "[['林佳光', 94, 94, 85, 50, 87],\n",
       " ['黃心航', 95, 96, 63, 70, 69],\n",
       " ['謝哲維', 98, 98, 90, 52, 55],\n",
       " ['許芳如', 78, 51, 82, 66, 98],\n",
       " ['鞠冠宇', 52, 56, 90, 59, 94]]"
      ]
     },
     "execution_count": 5,
     "metadata": {},
     "output_type": "execute_result"
    }
   ],
   "source": [
    "import random\n",
    "def get_students(student_num):\n",
    "    students:list[list]=[]\n",
    "    names=get_random_names(nums=student_num)\n",
    "    for i in range(student_num):\n",
    "        one_student=[random.randint(50,100)for _ in range(5)]\n",
    "        name=names[i]\n",
    "        one_student=[name]+one_student\n",
    "        students.append(one_student)\n",
    "    return students\n",
    "get_students(student_num=5)"
   ]
  },
  {
   "cell_type": "code",
   "execution_count": 6,
   "metadata": {},
   "outputs": [
    {
     "data": {
      "text/plain": [
       "'/workspaces/python_class_2023_07_23'"
      ]
     },
     "execution_count": 6,
     "metadata": {},
     "output_type": "execute_result"
    }
   ],
   "source": [
    "import os\n",
    "os.path.abspath(path=\"./\")"
   ]
  }
 ],
 "metadata": {
  "kernelspec": {
   "display_name": "Python 3",
   "language": "python",
   "name": "python3"
  },
  "language_info": {
   "codemirror_mode": {
    "name": "ipython",
    "version": 3
   },
   "file_extension": ".py",
   "mimetype": "text/x-python",
   "name": "python",
   "nbconvert_exporter": "python",
   "pygments_lexer": "ipython3",
   "version": "3.10.12"
  },
  "orig_nbformat": 4
 },
 "nbformat": 4,
 "nbformat_minor": 2
}
