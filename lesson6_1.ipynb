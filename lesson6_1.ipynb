{
 "cells": [
  {
   "cell_type": "code",
   "execution_count": 10,
   "metadata": {},
   "outputs": [
    {
     "name": "stdout",
     "output_type": "stream",
     "text": [
      "你的BMI為19.05\n",
      "體重正常\n"
     ]
    }
   ],
   "source": [
    "height=eval(input(\"請輸入身高,單位為公分:\"))\n",
    "weight=eval(input(\"請輸入體重,單位為公斤:\"))\n",
    "bmi=weight/(height/100)**2\n",
    "print(f'你的BMI為{bmi:.2f}')\n",
    "if bmi<18.5:\n",
    "    print(\"體重過輕\")\n",
    "elif bmi<24:\n",
    "    print(\"體重正常\")\n",
    "elif bmi<27:\n",
    "    print(\"過重\")\n",
    "elif bmi<30:\n",
    "    print(\"輕度肥胖\")\n",
    "elif bmi<35:\n",
    "    print(\"中度肥胖\")\n",
    "else:\n",
    "    print(\"重度肥胖\")\n"
   ]
  },
  {
   "cell_type": "code",
   "execution_count": 19,
   "metadata": {},
   "outputs": [
    {
     "name": "stdout",
     "output_type": "stream",
     "text": [
      "你的BMI為35.16\n",
      "重度肥胖\n"
     ]
    }
   ],
   "source": [
    "height=eval(input(\"請輸入身高,單位為公分:\"))\n",
    "weight=eval(input(\"請輸入體重,單位為公斤:\"))\n",
    "bmi=weight/(height/100)**2\n",
    "print(f'你的BMI為{bmi:.2f}')\n",
    "if 18.5<=bmi<24:\n",
    "    print(\"體重正常\")\n",
    "elif 24<=bmi<27:\n",
    "    print(\"過重\")\n",
    "elif 27<=bmi<30:\n",
    "    print(\"輕度肥胖\")\n",
    "elif 30<=bmi<35:\n",
    "    print(\"中度肥胖\")\n",
    "elif 35<=bmi:\n",
    "    print(\"重度肥胖\")\n",
    "elif bmi<18.5:\n",
    "    print(\"體重過輕\")\n"
   ]
  }
 ],
 "metadata": {
  "kernelspec": {
   "display_name": "Python 3",
   "language": "python",
   "name": "python3"
  },
  "language_info": {
   "codemirror_mode": {
    "name": "ipython",
    "version": 3
   },
   "file_extension": ".py",
   "mimetype": "text/x-python",
   "name": "python",
   "nbconvert_exporter": "python",
   "pygments_lexer": "ipython3",
   "version": "3.10.12"
  },
  "orig_nbformat": 4
 },
 "nbformat": 4,
 "nbformat_minor": 2
}
